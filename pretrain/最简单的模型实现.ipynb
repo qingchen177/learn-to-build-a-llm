{
 "cells": [
  {
   "cell_type": "code",
   "id": "initial_id",
   "metadata": {
    "collapsed": true,
    "ExecuteTime": {
     "end_time": "2024-09-07T16:43:37.863845Z",
     "start_time": "2024-09-07T16:43:37.861330Z"
    }
   },
   "source": [
    "# Andrej Karpathy\n",
    "# https://www.youtube.com/watch?v=kCc8FmEb1nY&t=31s\n",
    "# b站有中英字幕 \n",
    "# https://www.bilibili.com/video/BV1CP41147Cw\n",
    "\n",
    "# 获取 tiny shakespeare数据文件，本代码仓库存放位置为dataset目录中\n",
    "# Linux\n",
    "# !wget https://raw.githubusercontent.com/karpathy/char-rnn/master/data/tinyshakespeare/input.txt\n",
    "\n",
    "# Windows PowerShell\n",
    "# !wget https://raw.githubusercontent.com/karpathy/char-rnn/master/data/tinyshakespeare/input.txt -Outfile input.txt"
   ],
   "outputs": [],
   "execution_count": 12
  },
  {
   "metadata": {
    "ExecuteTime": {
     "end_time": "2024-09-07T16:43:37.886768Z",
     "start_time": "2024-09-07T16:43:37.875352Z"
    }
   },
   "cell_type": "code",
   "source": [
    "from xml.etree.ElementPath import xpath_tokenizer\n",
    "\n",
    "with open('pretrain/dataset/input.txt', 'r', encoding='utf-8') as f:\n",
    "    text = f.read()"
   ],
   "id": "c28b1e62ed8ac4de",
   "outputs": [],
   "execution_count": 13
  },
  {
   "metadata": {
    "ExecuteTime": {
     "end_time": "2024-09-07T16:43:37.899829Z",
     "start_time": "2024-09-07T16:43:37.893972Z"
    }
   },
   "cell_type": "code",
   "source": "print(len(text))",
   "id": "af9253a4ea2a7f76",
   "outputs": [
    {
     "name": "stdout",
     "output_type": "stream",
     "text": [
      "1115394\n"
     ]
    }
   ],
   "execution_count": 14
  },
  {
   "metadata": {
    "ExecuteTime": {
     "end_time": "2024-09-07T16:43:37.927730Z",
     "start_time": "2024-09-07T16:43:37.924988Z"
    }
   },
   "cell_type": "code",
   "source": "print(text[0:200])",
   "id": "2326a7edc1f98c67",
   "outputs": [
    {
     "name": "stdout",
     "output_type": "stream",
     "text": [
      "First Citizen:\n",
      "Before we proceed any further, hear me speak.\n",
      "\n",
      "All:\n",
      "Speak, speak.\n",
      "\n",
      "First Citizen:\n",
      "You are all resolved rather to die than to famish?\n",
      "\n",
      "All:\n",
      "Resolved. resolved.\n",
      "\n",
      "First Citizen:\n",
      "First, you\n"
     ]
    }
   ],
   "execution_count": 15
  },
  {
   "metadata": {
    "ExecuteTime": {
     "end_time": "2024-09-07T16:43:37.949736Z",
     "start_time": "2024-09-07T16:43:37.935728Z"
    }
   },
   "cell_type": "code",
   "source": [
    "# 统计字符数，作为我们的词本\n",
    "chars = sorted(list(set(text)))\n",
    "vocab_size = len(chars)\n",
    "print(vocab_size)  # 意味着我们的token种类数量为65\n",
    "print(''.join(chars))"
   ],
   "id": "5c11e532ac43a819",
   "outputs": [
    {
     "name": "stdout",
     "output_type": "stream",
     "text": [
      "65\n",
      "\n",
      " !$&',-.3:;?ABCDEFGHIJKLMNOPQRSTUVWXYZabcdefghijklmnopqrstuvwxyz\n"
     ]
    }
   ],
   "execution_count": 16
  },
  {
   "metadata": {
    "ExecuteTime": {
     "end_time": "2024-09-07T16:43:37.963345Z",
     "start_time": "2024-09-07T16:43:37.957555Z"
    }
   },
   "cell_type": "code",
   "source": [
    "# 实现一个encode、decode\n",
    "# mapping 映射，最简单的tokenizer\n",
    "stoi = {ch: i for i, ch in enumerate(chars)}\n",
    "itos = {i: ch for i, ch in enumerate(chars)}\n",
    "encode = lambda s: [stoi[c] for c in s]  # encoder 输入字符串，转化成数字列表\n",
    "decode = lambda l: ''.join([itos[i] for i in l])  # decoder 输入数字列表，转化成字符串\n",
    "\n",
    "print(encode(\"hello world,i am qingchen\"))\n",
    "print(decode(encode(\"hello world,i am qingchen\")))"
   ],
   "id": "98e862b400e23a82",
   "outputs": [
    {
     "name": "stdout",
     "output_type": "stream",
     "text": [
      "[46, 43, 50, 50, 53, 1, 61, 53, 56, 50, 42, 6, 47, 1, 39, 51, 1, 55, 47, 52, 45, 41, 46, 43, 52]\n",
      "hello world,i am qingchen\n"
     ]
    }
   ],
   "execution_count": 17
  },
  {
   "metadata": {
    "ExecuteTime": {
     "end_time": "2024-09-07T16:43:37.989128Z",
     "start_time": "2024-09-07T16:43:37.986962Z"
    }
   },
   "cell_type": "code",
   "source": [
    "# 我们造了一个最简单的tokenizer，character-level tokenizer，词本很短，编码和解码最简单， \n",
    "# 像Sentence-Piece、tiktoken等，采用子词（sub-word-level）级别。\n",
    "# 简单的tokenizer导致我们输出向量会很长，比如相同的字符串'hello'，我们转换后是5个[ 21, 23, 2, 3, 4]，而且其他的tokenizer可能就两个[ 23.2, 88.9]"
   ],
   "id": "f19838c4e1605ac7",
   "outputs": [],
   "execution_count": 18
  },
  {
   "metadata": {},
   "cell_type": "markdown",
   "source": [
    "使用pytorch  \n",
    "-- 我是windows10系统同时带nvida显卡"
   ],
   "id": "7f9b28a140787ad7"
  },
  {
   "metadata": {
    "ExecuteTime": {
     "end_time": "2024-09-07T16:43:38.003349Z",
     "start_time": "2024-09-07T16:43:37.999125Z"
    }
   },
   "cell_type": "code",
   "source": [
    "# 建议安装anaconda，然后去NVIDIA安装CUDA，最后安装pytorch\n",
    "\n",
    "# windows下anaconda和CUDA安装都很简单\n",
    "# anaconda\n",
    "# https://www.anaconda.com/download\n",
    "\n",
    "# CUDA\n",
    "# https://developer.nvidia.com/cuda-toolkit\n",
    "\n",
    "# 安装完后，打开cmd或者powershell创建一个虚拟环境 \n",
    "\n",
    "# !conda create --name pytorch python=3.11.8\n",
    "\n",
    "# 安装pytorch 可以直接访问 https://pytorch.org/get-started/locally/#windows-python 这里提供了一个根据你的操作系统和有无GPU选择来生成安装命令\n",
    "\n",
    "# !conda install pytorch torchvision torchaudio pytorch-cuda=12.4 -c pytorch -c nvidia\n",
    "\n",
    "# jupyter notebook （anaconda安装自带notebook）\n",
    "# 下面这条命令创建一个kernel核心来选择我们刚刚安装了pytorch的虚拟环境\n",
    "\n",
    "# !python -m ipykernel install --name pytorch --display-name \"pytorch\"\n",
    "\n",
    "# 或者此种方式\n",
    "# conda install nb_conda_kernels"
   ],
   "id": "343c17a1a383fb8a",
   "outputs": [],
   "execution_count": 19
  },
  {
   "metadata": {
    "ExecuteTime": {
     "end_time": "2024-09-07T16:43:38.018044Z",
     "start_time": "2024-09-07T16:43:38.011553Z"
    }
   },
   "cell_type": "code",
   "source": [
    "# 测试torch安装\n",
    "import torch\n",
    "\n",
    "x = torch.rand(5, 3)\n",
    "print(x)"
   ],
   "id": "36e64be2bbd592ab",
   "outputs": [
    {
     "name": "stdout",
     "output_type": "stream",
     "text": [
      "tensor([[0.9062, 0.2759, 0.0258],\n",
      "        [0.2173, 0.6806, 0.4048],\n",
      "        [0.0426, 0.4487, 0.3127],\n",
      "        [0.8835, 0.2861, 0.2647],\n",
      "        [0.6966, 0.1744, 0.4185]])\n"
     ]
    }
   ],
   "execution_count": 20
  },
  {
   "metadata": {
    "ExecuteTime": {
     "end_time": "2024-09-07T16:43:38.046866Z",
     "start_time": "2024-09-07T16:43:38.024866Z"
    }
   },
   "cell_type": "code",
   "source": [
    "print(torch.cuda.is_available())\n",
    "print(torch.backends.cudnn.is_available())\n",
    "print(torch.cuda_version)\n",
    "print(torch.backends.cudnn.version())\n"
   ],
   "id": "2887cb84206561f",
   "outputs": [
    {
     "name": "stdout",
     "output_type": "stream",
     "text": [
      "True\n",
      "True\n",
      "12.4\n",
      "90100\n"
     ]
    }
   ],
   "execution_count": 21
  },
  {
   "metadata": {
    "ExecuteTime": {
     "end_time": "2024-09-07T16:43:38.158474Z",
     "start_time": "2024-09-07T16:43:38.053969Z"
    }
   },
   "cell_type": "code",
   "source": [
    "data = torch.tensor(encode(text), dtype=torch.long)\n",
    "print(data.shape, data.dtype)\n",
    "print(data[:100])"
   ],
   "id": "bea80494c5dce7fc",
   "outputs": [
    {
     "name": "stdout",
     "output_type": "stream",
     "text": [
      "torch.Size([1115394]) torch.int64\n",
      "tensor([18, 47, 56, 57, 58,  1, 15, 47, 58, 47, 64, 43, 52, 10,  0, 14, 43, 44,\n",
      "        53, 56, 43,  1, 61, 43,  1, 54, 56, 53, 41, 43, 43, 42,  1, 39, 52, 63,\n",
      "         1, 44, 59, 56, 58, 46, 43, 56,  6,  1, 46, 43, 39, 56,  1, 51, 43,  1,\n",
      "        57, 54, 43, 39, 49,  8,  0,  0, 13, 50, 50, 10,  0, 31, 54, 43, 39, 49,\n",
      "         6,  1, 57, 54, 43, 39, 49,  8,  0,  0, 18, 47, 56, 57, 58,  1, 15, 47,\n",
      "        58, 47, 64, 43, 52, 10,  0, 37, 53, 59])\n"
     ]
    }
   ],
   "execution_count": 22
  },
  {
   "metadata": {
    "ExecuteTime": {
     "end_time": "2024-09-07T16:43:38.168277Z",
     "start_time": "2024-09-07T16:43:38.165565Z"
    }
   },
   "cell_type": "code",
   "source": [
    "# 训练集和测试集\n",
    "n = int(0.9 * len(data))\n",
    "train_data = data[:n]\n",
    "val_data = data[n:]"
   ],
   "id": "a942fac293809ae6",
   "outputs": [],
   "execution_count": 23
  },
  {
   "metadata": {
    "ExecuteTime": {
     "end_time": "2024-09-07T16:43:38.183682Z",
     "start_time": "2024-09-07T16:43:38.178683Z"
    }
   },
   "cell_type": "code",
   "source": [
    "block_size = 8\n",
    "train_data[:block_size + 1]"
   ],
   "id": "a43dcb912b7b31a3",
   "outputs": [
    {
     "data": {
      "text/plain": [
       "tensor([18, 47, 56, 57, 58,  1, 15, 47, 58])"
      ]
     },
     "execution_count": 24,
     "metadata": {},
     "output_type": "execute_result"
    }
   ],
   "execution_count": 24
  },
  {
   "metadata": {
    "ExecuteTime": {
     "end_time": "2024-09-07T16:43:38.201070Z",
     "start_time": "2024-09-07T16:43:38.195057Z"
    }
   },
   "cell_type": "code",
   "source": [
    "x = train_data[:block_size]\n",
    "y = train_data[1:block_size + 1]\n",
    "for i in range(block_size):\n",
    "    context = x[:i + 1]\n",
    "    target = y[i]\n",
    "    print(f\"当输入是{context}时，目标值是{target}\")"
   ],
   "id": "42a25b885341a38",
   "outputs": [
    {
     "name": "stdout",
     "output_type": "stream",
     "text": [
      "当输入是tensor([18])时，目标值是47\n",
      "当输入是tensor([18, 47])时，目标值是56\n",
      "当输入是tensor([18, 47, 56])时，目标值是57\n",
      "当输入是tensor([18, 47, 56, 57])时，目标值是58\n",
      "当输入是tensor([18, 47, 56, 57, 58])时，目标值是1\n",
      "当输入是tensor([18, 47, 56, 57, 58,  1])时，目标值是15\n",
      "当输入是tensor([18, 47, 56, 57, 58,  1, 15])时，目标值是47\n",
      "当输入是tensor([18, 47, 56, 57, 58,  1, 15, 47])时，目标值是58\n"
     ]
    }
   ],
   "execution_count": 25
  },
  {
   "metadata": {
    "ExecuteTime": {
     "end_time": "2024-09-07T16:43:38.226159Z",
     "start_time": "2024-09-07T16:43:38.219901Z"
    }
   },
   "cell_type": "code",
   "source": [
    "torch.manual_seed(1337)\n",
    "batch_size = 4\n",
    "block_size = 8\n",
    "\n",
    "\n",
    "def get_batch(split):\n",
    "    data = train_data if split == 'train' else val_data\n",
    "    ix = torch.randint(len(data) - block_size, (batch_size,))\n",
    "    x = torch.stack([data[i:i + block_size] for i in ix])\n",
    "    y = torch.stack([data[i + 1:i + block_size + 1] for i in ix])\n",
    "    return x, y\n",
    "\n",
    "\n",
    "xb, yb = get_batch('train')\n",
    "print(\"inputs:\")\n",
    "print(xb.shape)\n",
    "print(xb)\n",
    "print(\"targets:\")\n",
    "print(yb.shape)\n",
    "print(yb)"
   ],
   "id": "2337099f69b05dfe",
   "outputs": [
    {
     "name": "stdout",
     "output_type": "stream",
     "text": [
      "inputs:\n",
      "torch.Size([4, 8])\n",
      "tensor([[24, 43, 58,  5, 57,  1, 46, 43],\n",
      "        [44, 53, 56,  1, 58, 46, 39, 58],\n",
      "        [52, 58,  1, 58, 46, 39, 58,  1],\n",
      "        [25, 17, 27, 10,  0, 21,  1, 54]])\n",
      "targets:\n",
      "torch.Size([4, 8])\n",
      "tensor([[43, 58,  5, 57,  1, 46, 43, 39],\n",
      "        [53, 56,  1, 58, 46, 39, 58,  1],\n",
      "        [58,  1, 58, 46, 39, 58,  1, 46],\n",
      "        [17, 27, 10,  0, 21,  1, 54, 39]])\n"
     ]
    }
   ],
   "execution_count": 26
  },
  {
   "metadata": {
    "ExecuteTime": {
     "end_time": "2024-09-07T16:43:38.255373Z",
     "start_time": "2024-09-07T16:43:38.251599Z"
    }
   },
   "cell_type": "code",
   "source": [
    "print(\"---------\")\n",
    "\n",
    "for b in range(batch_size):  # 并行处理维度\n",
    "    for i in range(block_size):  # 时间维度 ？ 原视频写的是：time dimension，但是感觉就是 最大上下文context length 或者输入的最长token数量\n",
    "        context = xb[b, :i + 1]\n",
    "        target = yb[b, i]\n",
    "        print(f\"当输入是：{context.tolist()}，目标值为：{target}\")"
   ],
   "id": "bb86feb3fca9f8c6",
   "outputs": [
    {
     "name": "stdout",
     "output_type": "stream",
     "text": [
      "---------\n",
      "当输入是：[24]，目标值为：43\n",
      "当输入是：[24, 43]，目标值为：58\n",
      "当输入是：[24, 43, 58]，目标值为：5\n",
      "当输入是：[24, 43, 58, 5]，目标值为：57\n",
      "当输入是：[24, 43, 58, 5, 57]，目标值为：1\n",
      "当输入是：[24, 43, 58, 5, 57, 1]，目标值为：46\n",
      "当输入是：[24, 43, 58, 5, 57, 1, 46]，目标值为：43\n",
      "当输入是：[24, 43, 58, 5, 57, 1, 46, 43]，目标值为：39\n",
      "当输入是：[44]，目标值为：53\n",
      "当输入是：[44, 53]，目标值为：56\n",
      "当输入是：[44, 53, 56]，目标值为：1\n",
      "当输入是：[44, 53, 56, 1]，目标值为：58\n",
      "当输入是：[44, 53, 56, 1, 58]，目标值为：46\n",
      "当输入是：[44, 53, 56, 1, 58, 46]，目标值为：39\n",
      "当输入是：[44, 53, 56, 1, 58, 46, 39]，目标值为：58\n",
      "当输入是：[44, 53, 56, 1, 58, 46, 39, 58]，目标值为：1\n",
      "当输入是：[52]，目标值为：58\n",
      "当输入是：[52, 58]，目标值为：1\n",
      "当输入是：[52, 58, 1]，目标值为：58\n",
      "当输入是：[52, 58, 1, 58]，目标值为：46\n",
      "当输入是：[52, 58, 1, 58, 46]，目标值为：39\n",
      "当输入是：[52, 58, 1, 58, 46, 39]，目标值为：58\n",
      "当输入是：[52, 58, 1, 58, 46, 39, 58]，目标值为：1\n",
      "当输入是：[52, 58, 1, 58, 46, 39, 58, 1]，目标值为：46\n",
      "当输入是：[25]，目标值为：17\n",
      "当输入是：[25, 17]，目标值为：27\n",
      "当输入是：[25, 17, 27]，目标值为：10\n",
      "当输入是：[25, 17, 27, 10]，目标值为：0\n",
      "当输入是：[25, 17, 27, 10, 0]，目标值为：21\n",
      "当输入是：[25, 17, 27, 10, 0, 21]，目标值为：1\n",
      "当输入是：[25, 17, 27, 10, 0, 21, 1]，目标值为：54\n",
      "当输入是：[25, 17, 27, 10, 0, 21, 1, 54]，目标值为：39\n"
     ]
    }
   ],
   "execution_count": 27
  },
  {
   "metadata": {},
   "cell_type": "markdown",
   "source": "接下来构建一个模型",
   "id": "7f9afe7229622ead"
  },
  {
   "metadata": {
    "ExecuteTime": {
     "end_time": "2024-09-07T16:43:38.295742Z",
     "start_time": "2024-09-07T16:43:38.276233Z"
    }
   },
   "cell_type": "code",
   "source": [
    "import torch\n",
    "import torch.nn as nn\n",
    "import torch.nn.functional as F\n",
    "\n",
    "torch.manual_seed(1337)\n",
    "\n",
    "\n",
    "class BigramLanguageModel(nn.Module):\n",
    "\n",
    "    def __init__(self, vocab_size):\n",
    "        super().__init__()\n",
    "        # 构造函数 创建一个词表大小为 65x65\n",
    "        self.token_embedding_table = nn.Embedding(vocab_size, vocab_size)\n",
    "\n",
    "    # 前向\n",
    "    def forward(self, idx, targets=None):\n",
    "        # 将输入的idx从 4x8 变成 4x8x65\n",
    "        logits = self.token_embedding_table(idx)  # (B,T,C) B: Batch size 这里是4；T: context length 这里是8；C：vocab_size 65\n",
    "\n",
    "        if targets is None:\n",
    "            loss = None\n",
    "        else:\n",
    "            B, T, C = logits.shape\n",
    "            logits = logits.view(B * T, C)\n",
    "            targets = targets.view(B * T)\n",
    "            # 交叉熵\n",
    "            loss = F.cross_entropy(logits, targets)  # 这里不改变张量结构会报错\n",
    "\n",
    "        return logits, loss\n",
    "\n",
    "    def generate(self, idx, max_new_token):\n",
    "        # idx 是当前上下文中大小为 (B,T) 的索引数组\n",
    "        for _ in range(max_new_token):\n",
    "            # 获取预测值\n",
    "            logits, loss = self(idx)\n",
    "            # 专注于最后一步\n",
    "            logits = logits[:, -1, :]  # 变成(B,C)\n",
    "            # 加入softmax函数得到概率，dim=-1取最后一个维度来计算也就是C，65\n",
    "            probs = F.softmax(logits, dim=-1)  # (B,C)\n",
    "            # sample from the distribution 从分布中抽样\n",
    "            idx_next = torch.multinomial(probs, num_samples=1)  # (B,1)\n",
    "            # append sampled index to the running sequence\n",
    "            idx = torch.cat((idx, idx_next), dim=1)  # (B,T+1)\n",
    "        return idx\n",
    "\n",
    "\n",
    "m = BigramLanguageModel(vocab_size=vocab_size)\n",
    "out, loss = m(xb, yb)\n",
    "print(out.shape)\n",
    "print(loss)\n",
    "\n",
    "idx = torch.zeros((1, 1), dtype=torch.long)\n",
    "print(decode(m.generate(idx, max_new_token=100)[0].tolist()))"
   ],
   "id": "20be9c2bfe2e6143",
   "outputs": [
    {
     "name": "stdout",
     "output_type": "stream",
     "text": [
      "torch.Size([32, 65])\n",
      "tensor(4.8786, grad_fn=<NllLossBackward0>)\n",
      "\n",
      "Sr?qP-QWktXoL&jLDJgOLVz'RIoDqHdhsV&vLLxatjscMpwLERSPyao.qfzs$Ys$zF-w,;eEkzxjgCKFChs!iWW.ObzDnxA Ms$3\n"
     ]
    }
   ],
   "execution_count": 28
  },
  {
   "metadata": {
    "ExecuteTime": {
     "end_time": "2024-09-07T16:43:38.313510Z",
     "start_time": "2024-09-07T16:43:38.306268Z"
    }
   },
   "cell_type": "code",
   "source": [
    "# 切片作用\n",
    "# tensor = torch.randint(0, 5, (4, 8, 4))\n",
    "tensor = torch.tensor([[[0, 1, 2, 3],\n",
    "                        [4, 5, 6, 7],\n",
    "                        [8, 9, 10, 11],\n",
    "                        [12, 13, 14, 15]],\n",
    "\n",
    "                       [[16, 17, 18, 19],\n",
    "                        [20, 21, 22, 23],\n",
    "                        [24, 25, 26, 27],\n",
    "                        [28, 29, 30, 31]],\n",
    "\n",
    "                       [[32, 33, 34, 35],\n",
    "                        [36, 37, 38, 39],\n",
    "                        [40, 41, 42, 43],\n",
    "                        [44, 45, 46, 47]],\n",
    "\n",
    "                       [[48, 49, 50, 51],\n",
    "                        [52, 53, 54, 55],\n",
    "                        [56, 57, 58, 59],\n",
    "                        [60, 61, 62, 63]]])\n",
    "\n",
    "tensor1 = tensor[:, -1, :]\n",
    "print(tensor1.shape)\n",
    "print(tensor1)\n",
    "\n",
    "tensor2 = tensor[:, -1:, :]\n",
    "print(tensor2.shape)\n",
    "print(tensor2)"
   ],
   "id": "9cf46aacbc5ff429",
   "outputs": [
    {
     "name": "stdout",
     "output_type": "stream",
     "text": [
      "torch.Size([4, 4])\n",
      "tensor([[12, 13, 14, 15],\n",
      "        [28, 29, 30, 31],\n",
      "        [44, 45, 46, 47],\n",
      "        [60, 61, 62, 63]])\n",
      "torch.Size([4, 1, 4])\n",
      "tensor([[[12, 13, 14, 15]],\n",
      "\n",
      "        [[28, 29, 30, 31]],\n",
      "\n",
      "        [[44, 45, 46, 47]],\n",
      "\n",
      "        [[60, 61, 62, 63]]])\n"
     ]
    }
   ],
   "execution_count": 29
  },
  {
   "metadata": {
    "ExecuteTime": {
     "end_time": "2024-09-07T16:43:58.092797Z",
     "start_time": "2024-09-07T16:43:38.407421Z"
    }
   },
   "cell_type": "code",
   "source": [
    "# 优化模型\n",
    "\n",
    "optimizer = torch.optim.Adam(m.parameters(), lr=0.001)\n",
    "# torch.optim.SGD(m.parameters(), lr=0.001) 随机梯度下降\n",
    "\n",
    "batch_size = 32\n",
    "for epoch in range(20000):\n",
    "    xb, yb = get_batch('train')\n",
    "\n",
    "    # 计算损失\n",
    "    logits, loss = m(xb, yb)\n",
    "    optimizer.zero_grad(set_to_none=True)\n",
    "    loss.backward()\n",
    "    optimizer.step()\n",
    "\n",
    "print(loss.item())"
   ],
   "id": "ab196f381f6af0d",
   "outputs": [
    {
     "name": "stdout",
     "output_type": "stream",
     "text": [
      "2.4846878051757812\n"
     ]
    }
   ],
   "execution_count": 30
  },
  {
   "metadata": {
    "ExecuteTime": {
     "end_time": "2024-09-07T16:43:58.206303Z",
     "start_time": "2024-09-07T16:43:58.166303Z"
    }
   },
   "cell_type": "code",
   "source": [
    "idx = torch.zeros((1, 1), dtype=torch.long)\n",
    "print(decode(m.generate(idx, max_new_token=400)[0].tolist()))"
   ],
   "id": "49b376a8d89ff8cb",
   "outputs": [
    {
     "name": "stdout",
     "output_type": "stream",
     "text": [
      "\n",
      "\n",
      "\n",
      "\n",
      "QUCatheesicis bas, angomitouze chifomerawhe ty ag\n",
      "\n",
      "Doone thesellande west, me fffol, whandiffe IAfithods misue, knild he hthe hicofudirer' My ayosbly louroura s mu, uthos s reveprthoukerdi't avorure fotemowe.\n",
      "Whamo es t, tstt g t RTRushy,\n",
      "WAsbr spr my ou pl y,\n",
      "Witoft at o s me,\n",
      "Whabrethe Cicuomants awonte qungur thme wrar d parsupl by:\n",
      "'sul ve ave,\n",
      "Kconit ped bim; fam elathelch easutlll teye A \n"
     ]
    }
   ],
   "execution_count": 31
  },
  {
   "metadata": {},
   "cell_type": "markdown",
   "source": "#### The Mathematical trick in self-attention 自注意力的数学窍门",
   "id": "c26af7418337b11b"
  },
  {
   "metadata": {
    "ExecuteTime": {
     "end_time": "2024-09-08T05:46:51.723554Z",
     "start_time": "2024-09-08T05:46:45.247578Z"
    }
   },
   "cell_type": "code",
   "source": [
    "import torch\n",
    "\n",
    "# consider the following toy example：\n",
    "torch.manual_seed(1337)\n",
    "B, T, C = 4, 8, 2  # batch ,time , channels\n",
    "x = torch.randn(B, T, C)\n",
    "x.shape\n"
   ],
   "id": "a03397d7b4bb6cd1",
   "outputs": [
    {
     "data": {
      "text/plain": [
       "torch.Size([4, 8, 2])"
      ]
     },
     "execution_count": 1,
     "metadata": {},
     "output_type": "execute_result"
    }
   ],
   "execution_count": 1
  },
  {
   "metadata": {
    "ExecuteTime": {
     "end_time": "2024-09-07T17:19:49.975642Z",
     "start_time": "2024-09-07T17:19:49.971454Z"
    }
   },
   "cell_type": "code",
   "source": [
    "# version 1\n",
    "# we want x[b,t] = mean_{i<=t} x[b,i] 要前面的平均值\n",
    "xbow = torch.zeros(B, T, C)\n",
    "for b in range(B):\n",
    "    for t in range(T):\n",
    "        xprev = x[b, :t + 1]\n",
    "        xbow[b, t] = torch.mean(xprev, 0)"
   ],
   "id": "e37c68484379298e",
   "outputs": [],
   "execution_count": 73
  },
  {
   "metadata": {
    "ExecuteTime": {
     "end_time": "2024-09-07T17:15:05.786327Z",
     "start_time": "2024-09-07T17:15:05.780320Z"
    }
   },
   "cell_type": "code",
   "source": [
    "for b in range(B):\n",
    "    print(b)\n",
    "    print(x[b, :3])\n",
    "    print(x[b, :3].shape)\n",
    "    print(torch.mean(x[b, :3], 0))"
   ],
   "id": "5eb2bfb1c0152252",
   "outputs": [
    {
     "name": "stdout",
     "output_type": "stream",
     "text": [
      "0\n",
      "tensor([[ 0.1808, -0.0700],\n",
      "        [-0.3596, -0.9152],\n",
      "        [ 0.6258,  0.0255]])\n",
      "torch.Size([3, 2])\n",
      "tensor([ 0.1490, -0.3199])\n",
      "1\n",
      "tensor([[ 1.3488, -0.1396],\n",
      "        [ 0.2858,  0.9651],\n",
      "        [-2.0371,  0.4931]])\n",
      "torch.Size([3, 2])\n",
      "tensor([-0.1342,  0.4395])\n",
      "2\n",
      "tensor([[-0.6631, -0.2513],\n",
      "        [ 1.0101,  0.1215],\n",
      "        [ 0.1584,  1.1340]])\n",
      "torch.Size([3, 2])\n",
      "tensor([0.1685, 0.3348])\n",
      "3\n",
      "tensor([[ 1.6455, -0.8030],\n",
      "        [ 1.3514, -0.2759],\n",
      "        [-1.5108,  2.1048]])\n",
      "torch.Size([3, 2])\n",
      "tensor([0.4954, 0.3420])\n"
     ]
    }
   ],
   "execution_count": 59
  },
  {
   "metadata": {
    "ExecuteTime": {
     "end_time": "2024-09-07T17:19:58.794534Z",
     "start_time": "2024-09-07T17:19:58.789017Z"
    }
   },
   "cell_type": "code",
   "source": "x[0]",
   "id": "e9fc8edfc84264f9",
   "outputs": [
    {
     "data": {
      "text/plain": [
       "tensor([[ 0.1808, -0.0700],\n",
       "        [-0.3596, -0.9152],\n",
       "        [ 0.6258,  0.0255],\n",
       "        [ 0.9545,  0.0643],\n",
       "        [ 0.3612,  1.1679],\n",
       "        [-1.3499, -0.5102],\n",
       "        [ 0.2360, -0.2398],\n",
       "        [-0.9211,  1.5433]])"
      ]
     },
     "execution_count": 74,
     "metadata": {},
     "output_type": "execute_result"
    }
   ],
   "execution_count": 74
  },
  {
   "metadata": {
    "ExecuteTime": {
     "end_time": "2024-09-07T17:20:01.322350Z",
     "start_time": "2024-09-07T17:20:01.318426Z"
    }
   },
   "cell_type": "code",
   "source": "xbow[0]",
   "id": "2c80157fb21778c7",
   "outputs": [
    {
     "data": {
      "text/plain": [
       "tensor([[ 0.1808, -0.0700],\n",
       "        [-0.0894, -0.4926],\n",
       "        [ 0.1490, -0.3199],\n",
       "        [ 0.3504, -0.2238],\n",
       "        [ 0.3525,  0.0545],\n",
       "        [ 0.0688, -0.0396],\n",
       "        [ 0.0927, -0.0682],\n",
       "        [-0.0341,  0.1332]])"
      ]
     },
     "execution_count": 75,
     "metadata": {},
     "output_type": "execute_result"
    }
   ],
   "execution_count": 75
  },
  {
   "metadata": {
    "ExecuteTime": {
     "end_time": "2024-09-07T17:20:08.165889Z",
     "start_time": "2024-09-07T17:20:08.160443Z"
    }
   },
   "cell_type": "code",
   "source": "torch.tril(torch.ones(3, 3))",
   "id": "d42bbc3a4ad5c86c",
   "outputs": [
    {
     "data": {
      "text/plain": [
       "tensor([[1., 0., 0.],\n",
       "        [1., 1., 0.],\n",
       "        [1., 1., 1.]])"
      ]
     },
     "execution_count": 76,
     "metadata": {},
     "output_type": "execute_result"
    }
   ],
   "execution_count": 76
  },
  {
   "metadata": {
    "ExecuteTime": {
     "end_time": "2024-09-07T17:15:21.449523Z",
     "start_time": "2024-09-07T17:15:21.443690Z"
    }
   },
   "cell_type": "code",
   "source": [
    "# 使用矩阵乘法完成上面的操作\n",
    "torch.manual_seed(42)\n",
    "a = torch.ones(3, 3)\n",
    "b = torch.randint(0, 10, (3, 2)).float()\n",
    "c = a @ b  # 矩阵乘法\n",
    "print(\"a=\")\n",
    "print(a)\n",
    "print(\"b=\")\n",
    "print(b)\n",
    "print(\"c=\")\n",
    "print(c)"
   ],
   "id": "f29658ced0340079",
   "outputs": [
    {
     "name": "stdout",
     "output_type": "stream",
     "text": [
      "a=\n",
      "tensor([[1., 1., 1.],\n",
      "        [1., 1., 1.],\n",
      "        [1., 1., 1.]])\n",
      "b=\n",
      "tensor([[2., 7.],\n",
      "        [6., 4.],\n",
      "        [6., 5.]])\n",
      "c=\n",
      "tensor([[14., 16.],\n",
      "        [14., 16.],\n",
      "        [14., 16.]])\n"
     ]
    }
   ],
   "execution_count": 63
  },
  {
   "metadata": {
    "ExecuteTime": {
     "end_time": "2024-09-07T17:15:25.758863Z",
     "start_time": "2024-09-07T17:15:25.752931Z"
    }
   },
   "cell_type": "code",
   "source": [
    "a = torch.tril(torch.ones(3, 3))  # 求累加\n",
    "c = a @ b\n",
    "print(\"a=\")\n",
    "print(a)\n",
    "print(\"b=\")\n",
    "print(b)\n",
    "print(\"c=\")\n",
    "print(c)"
   ],
   "id": "e1d231d867ccc3f4",
   "outputs": [
    {
     "name": "stdout",
     "output_type": "stream",
     "text": [
      "a=\n",
      "tensor([[1., 0., 0.],\n",
      "        [1., 1., 0.],\n",
      "        [1., 1., 1.]])\n",
      "b=\n",
      "tensor([[2., 7.],\n",
      "        [6., 4.],\n",
      "        [6., 5.]])\n",
      "c=\n",
      "tensor([[ 2.,  7.],\n",
      "        [ 8., 11.],\n",
      "        [14., 16.]])\n"
     ]
    }
   ],
   "execution_count": 64
  },
  {
   "metadata": {
    "ExecuteTime": {
     "end_time": "2024-09-07T17:15:30.968545Z",
     "start_time": "2024-09-07T17:15:30.962842Z"
    }
   },
   "cell_type": "code",
   "source": [
    "a = torch.tril(torch.ones(3, 3))  # 累加\n",
    "a = a / torch.sum(a, 1, keepdim=True)  # 平均\n",
    "c = a @ b\n",
    "print(\"a=\")\n",
    "print(a)\n",
    "print(\"b=\")\n",
    "print(b)\n",
    "print(\"c=\")\n",
    "print(c)"
   ],
   "id": "f816ccaa26fd6dfd",
   "outputs": [
    {
     "name": "stdout",
     "output_type": "stream",
     "text": [
      "a=\n",
      "tensor([[1.0000, 0.0000, 0.0000],\n",
      "        [0.5000, 0.5000, 0.0000],\n",
      "        [0.3333, 0.3333, 0.3333]])\n",
      "b=\n",
      "tensor([[2., 7.],\n",
      "        [6., 4.],\n",
      "        [6., 5.]])\n",
      "c=\n",
      "tensor([[2.0000, 7.0000],\n",
      "        [4.0000, 5.5000],\n",
      "        [4.6667, 5.3333]])\n"
     ]
    }
   ],
   "execution_count": 65
  },
  {
   "metadata": {
    "ExecuteTime": {
     "end_time": "2024-09-07T17:20:25.632474Z",
     "start_time": "2024-09-07T17:20:25.627116Z"
    }
   },
   "cell_type": "code",
   "source": [
    "# version 2\n",
    "# 实现一开始的两个循环\n",
    "wei = torch.tril(torch.ones(T, T))  # 累加\n",
    "wei = wei / wei.sum(1, keepdim=True)  # 平均\n",
    "xbow2 = wei @ x\n",
    "print(torch.allclose(xbow2, xbow2))\n",
    "print(wei.shape)\n",
    "print(wei)\n",
    "print(xbow2.shape)\n",
    "print(xbow2)"
   ],
   "id": "2994d2ab91d06260",
   "outputs": [
    {
     "name": "stdout",
     "output_type": "stream",
     "text": [
      "True\n",
      "torch.Size([8, 8])\n",
      "tensor([[1.0000, 0.0000, 0.0000, 0.0000, 0.0000, 0.0000, 0.0000, 0.0000],\n",
      "        [0.5000, 0.5000, 0.0000, 0.0000, 0.0000, 0.0000, 0.0000, 0.0000],\n",
      "        [0.3333, 0.3333, 0.3333, 0.0000, 0.0000, 0.0000, 0.0000, 0.0000],\n",
      "        [0.2500, 0.2500, 0.2500, 0.2500, 0.0000, 0.0000, 0.0000, 0.0000],\n",
      "        [0.2000, 0.2000, 0.2000, 0.2000, 0.2000, 0.0000, 0.0000, 0.0000],\n",
      "        [0.1667, 0.1667, 0.1667, 0.1667, 0.1667, 0.1667, 0.0000, 0.0000],\n",
      "        [0.1429, 0.1429, 0.1429, 0.1429, 0.1429, 0.1429, 0.1429, 0.0000],\n",
      "        [0.1250, 0.1250, 0.1250, 0.1250, 0.1250, 0.1250, 0.1250, 0.1250]])\n",
      "torch.Size([4, 8, 2])\n",
      "tensor([[[ 0.1808, -0.0700],\n",
      "         [-0.0894, -0.4926],\n",
      "         [ 0.1490, -0.3199],\n",
      "         [ 0.3504, -0.2238],\n",
      "         [ 0.3525,  0.0545],\n",
      "         [ 0.0688, -0.0396],\n",
      "         [ 0.0927, -0.0682],\n",
      "         [-0.0341,  0.1332]],\n",
      "\n",
      "        [[ 1.3488, -0.1396],\n",
      "         [ 0.8173,  0.4127],\n",
      "         [-0.1342,  0.4395],\n",
      "         [ 0.2711,  0.4774],\n",
      "         [ 0.2421,  0.0694],\n",
      "         [ 0.0084,  0.0020],\n",
      "         [ 0.0712, -0.1128],\n",
      "         [ 0.2527,  0.2149]],\n",
      "\n",
      "        [[-0.6631, -0.2513],\n",
      "         [ 0.1735, -0.0649],\n",
      "         [ 0.1685,  0.3348],\n",
      "         [-0.1621,  0.1765],\n",
      "         [-0.2312, -0.0436],\n",
      "         [-0.1015, -0.2855],\n",
      "         [-0.2593, -0.1630],\n",
      "         [-0.3015, -0.2293]],\n",
      "\n",
      "        [[ 1.6455, -0.8030],\n",
      "         [ 1.4985, -0.5395],\n",
      "         [ 0.4954,  0.3420],\n",
      "         [ 1.0623, -0.1802],\n",
      "         [ 1.1401, -0.4462],\n",
      "         [ 1.0870, -0.4071],\n",
      "         [ 1.0430, -0.1299],\n",
      "         [ 1.1138, -0.1641]]])\n"
     ]
    }
   ],
   "execution_count": 77
  },
  {
   "metadata": {
    "ExecuteTime": {
     "end_time": "2024-09-07T17:20:39.379026Z",
     "start_time": "2024-09-07T17:20:39.374294Z"
    }
   },
   "cell_type": "code",
   "source": "xbow[0], xbow2[0]",
   "id": "e409fabc42180454",
   "outputs": [
    {
     "data": {
      "text/plain": [
       "(tensor([[ 0.1808, -0.0700],\n",
       "         [-0.0894, -0.4926],\n",
       "         [ 0.1490, -0.3199],\n",
       "         [ 0.3504, -0.2238],\n",
       "         [ 0.3525,  0.0545],\n",
       "         [ 0.0688, -0.0396],\n",
       "         [ 0.0927, -0.0682],\n",
       "         [-0.0341,  0.1332]]),\n",
       " tensor([[ 0.1808, -0.0700],\n",
       "         [-0.0894, -0.4926],\n",
       "         [ 0.1490, -0.3199],\n",
       "         [ 0.3504, -0.2238],\n",
       "         [ 0.3525,  0.0545],\n",
       "         [ 0.0688, -0.0396],\n",
       "         [ 0.0927, -0.0682],\n",
       "         [-0.0341,  0.1332]]))"
      ]
     },
     "execution_count": 78,
     "metadata": {},
     "output_type": "execute_result"
    }
   ],
   "execution_count": 78
  },
  {
   "metadata": {},
   "cell_type": "markdown",
   "source": "加权求和\n",
   "id": "219508e85a365f61"
  },
  {
   "metadata": {
    "ExecuteTime": {
     "end_time": "2024-09-07T17:29:40.095107Z",
     "start_time": "2024-09-07T17:29:40.087848Z"
    }
   },
   "cell_type": "code",
   "source": [
    "# version 3\n",
    "# softmax\n",
    "tril = torch.tril(torch.ones(T, T))\n",
    "wei3 = torch.ones(T, T)\n",
    "wei3 = wei3.masked_fill(tril == 0, float('-inf'))\n",
    "print(wei3)\n",
    "wei3 = F.softmax(wei3, dim=-1)\n",
    "print(wei3.shape)\n",
    "print(wei3)\n",
    "xbow3 = wei3 @ x\n",
    "torch.allclose(xbow2, xbow3)"
   ],
   "id": "5745f55ad89acdfa",
   "outputs": [
    {
     "name": "stdout",
     "output_type": "stream",
     "text": [
      "tensor([[1., -inf, -inf, -inf, -inf, -inf, -inf, -inf],\n",
      "        [1., 1., -inf, -inf, -inf, -inf, -inf, -inf],\n",
      "        [1., 1., 1., -inf, -inf, -inf, -inf, -inf],\n",
      "        [1., 1., 1., 1., -inf, -inf, -inf, -inf],\n",
      "        [1., 1., 1., 1., 1., -inf, -inf, -inf],\n",
      "        [1., 1., 1., 1., 1., 1., -inf, -inf],\n",
      "        [1., 1., 1., 1., 1., 1., 1., -inf],\n",
      "        [1., 1., 1., 1., 1., 1., 1., 1.]])\n",
      "torch.Size([8, 8])\n",
      "tensor([[1.0000, 0.0000, 0.0000, 0.0000, 0.0000, 0.0000, 0.0000, 0.0000],\n",
      "        [0.5000, 0.5000, 0.0000, 0.0000, 0.0000, 0.0000, 0.0000, 0.0000],\n",
      "        [0.3333, 0.3333, 0.3333, 0.0000, 0.0000, 0.0000, 0.0000, 0.0000],\n",
      "        [0.2500, 0.2500, 0.2500, 0.2500, 0.0000, 0.0000, 0.0000, 0.0000],\n",
      "        [0.2000, 0.2000, 0.2000, 0.2000, 0.2000, 0.0000, 0.0000, 0.0000],\n",
      "        [0.1667, 0.1667, 0.1667, 0.1667, 0.1667, 0.1667, 0.0000, 0.0000],\n",
      "        [0.1429, 0.1429, 0.1429, 0.1429, 0.1429, 0.1429, 0.1429, 0.0000],\n",
      "        [0.1250, 0.1250, 0.1250, 0.1250, 0.1250, 0.1250, 0.1250, 0.1250]])\n"
     ]
    },
    {
     "data": {
      "text/plain": [
       "True"
      ]
     },
     "execution_count": 88,
     "metadata": {},
     "output_type": "execute_result"
    }
   ],
   "execution_count": 88
  },
  {
   "metadata": {
    "ExecuteTime": {
     "end_time": "2024-09-07T17:29:31.943959Z",
     "start_time": "2024-09-07T17:29:31.938959Z"
    }
   },
   "cell_type": "code",
   "source": "xbow[0], xbow3[0]",
   "id": "3ff584182776d586",
   "outputs": [
    {
     "data": {
      "text/plain": [
       "(tensor([[ 0.1808, -0.0700],\n",
       "         [-0.0894, -0.4926],\n",
       "         [ 0.1490, -0.3199],\n",
       "         [ 0.3504, -0.2238],\n",
       "         [ 0.3525,  0.0545],\n",
       "         [ 0.0688, -0.0396],\n",
       "         [ 0.0927, -0.0682],\n",
       "         [-0.0341,  0.1332]]),\n",
       " tensor([[ 0.1808, -0.0700],\n",
       "         [-0.0894, -0.4926],\n",
       "         [ 0.1490, -0.3199],\n",
       "         [ 0.3504, -0.2238],\n",
       "         [ 0.3525,  0.0545],\n",
       "         [ 0.0688, -0.0396],\n",
       "         [ 0.0927, -0.0682],\n",
       "         [-0.0341,  0.1332]]))"
      ]
     },
     "execution_count": 87,
     "metadata": {},
     "output_type": "execute_result"
    }
   ],
   "execution_count": 87
  },
  {
   "metadata": {
    "ExecuteTime": {
     "end_time": "2024-09-08T06:34:21.433463Z",
     "start_time": "2024-09-08T06:34:21.422857Z"
    }
   },
   "cell_type": "code",
   "source": [
    "# version4 self attention !!!\n",
    "import torch\n",
    "import torch.nn as nn\n",
    "import torch.nn.functional as F\n",
    "\n",
    "torch.manual_seed(1337)\n",
    "B, T, C = 4, 8, 32  # BATCH , TIME , CHANNELS\n",
    "x = torch.randn(B, T, C)\n",
    "\n",
    "# see a single head perform self-attention\n",
    "head_size = 16\n",
    "key = nn.Linear(C, head_size, bias=False)  # 我有什么\n",
    "query = nn.Linear(C, head_size, bias=False)  # 我感兴趣什么\n",
    "value = nn.Linear(C, head_size, bias=False)  # 信息聚合\n",
    "k = key(x)  # (B,T,16)\n",
    "q = query(x)  # (B,T,16)\n",
    "wei = q @ k.transpose(-2, -1)  # (B,T,16) @ (B,16,T) -->(B,T,T)\n",
    "\n",
    "tril = torch.tril(torch.ones(T, T))\n",
    "# wei = torch.zeros(T, T)\n",
    "wei = wei.masked_fill(tril == 0, float('-inf'))\n",
    "wei = F.softmax(wei, dim=-1)\n",
    "\n",
    "v = value(x)\n",
    "\n",
    "out = wei @ v\n",
    "out1 = wei @ x\n",
    "print(out.shape)\n",
    "print(out1.shape)"
   ],
   "id": "f908cb8ed5c4aa06",
   "outputs": [
    {
     "name": "stdout",
     "output_type": "stream",
     "text": [
      "torch.Size([4, 8, 16])\n",
      "torch.Size([4, 8, 32])\n"
     ]
    }
   ],
   "execution_count": 22
  },
  {
   "metadata": {
    "ExecuteTime": {
     "end_time": "2024-09-08T05:57:33.990236Z",
     "start_time": "2024-09-08T05:57:33.983953Z"
    }
   },
   "cell_type": "code",
   "source": "wei",
   "id": "6e48a6295c3f6cdf",
   "outputs": [
    {
     "data": {
      "text/plain": [
       "tensor([[[1.0000, 0.0000, 0.0000, 0.0000, 0.0000, 0.0000, 0.0000, 0.0000],\n",
       "         [0.1574, 0.8426, 0.0000, 0.0000, 0.0000, 0.0000, 0.0000, 0.0000],\n",
       "         [0.2088, 0.1646, 0.6266, 0.0000, 0.0000, 0.0000, 0.0000, 0.0000],\n",
       "         [0.5792, 0.1187, 0.1889, 0.1131, 0.0000, 0.0000, 0.0000, 0.0000],\n",
       "         [0.0294, 0.1052, 0.0469, 0.0276, 0.7909, 0.0000, 0.0000, 0.0000],\n",
       "         [0.0176, 0.2689, 0.0215, 0.0089, 0.6812, 0.0019, 0.0000, 0.0000],\n",
       "         [0.1691, 0.4066, 0.0438, 0.0416, 0.1048, 0.2012, 0.0329, 0.0000],\n",
       "         [0.0210, 0.0843, 0.0555, 0.2297, 0.0573, 0.0709, 0.2423, 0.2391]],\n",
       "\n",
       "        [[1.0000, 0.0000, 0.0000, 0.0000, 0.0000, 0.0000, 0.0000, 0.0000],\n",
       "         [0.1687, 0.8313, 0.0000, 0.0000, 0.0000, 0.0000, 0.0000, 0.0000],\n",
       "         [0.2477, 0.0514, 0.7008, 0.0000, 0.0000, 0.0000, 0.0000, 0.0000],\n",
       "         [0.4410, 0.0957, 0.3747, 0.0887, 0.0000, 0.0000, 0.0000, 0.0000],\n",
       "         [0.0069, 0.0456, 0.0300, 0.7748, 0.1427, 0.0000, 0.0000, 0.0000],\n",
       "         [0.0660, 0.0892, 0.0413, 0.6316, 0.1649, 0.0069, 0.0000, 0.0000],\n",
       "         [0.0396, 0.2288, 0.0090, 0.2000, 0.2061, 0.1949, 0.1217, 0.0000],\n",
       "         [0.3650, 0.0474, 0.0767, 0.0293, 0.3084, 0.0784, 0.0455, 0.0493]],\n",
       "\n",
       "        [[1.0000, 0.0000, 0.0000, 0.0000, 0.0000, 0.0000, 0.0000, 0.0000],\n",
       "         [0.4820, 0.5180, 0.0000, 0.0000, 0.0000, 0.0000, 0.0000, 0.0000],\n",
       "         [0.1705, 0.4550, 0.3745, 0.0000, 0.0000, 0.0000, 0.0000, 0.0000],\n",
       "         [0.0074, 0.7444, 0.0477, 0.2005, 0.0000, 0.0000, 0.0000, 0.0000],\n",
       "         [0.8359, 0.0416, 0.0525, 0.0580, 0.0119, 0.0000, 0.0000, 0.0000],\n",
       "         [0.1195, 0.2061, 0.1019, 0.1153, 0.1814, 0.2758, 0.0000, 0.0000],\n",
       "         [0.0065, 0.0589, 0.0372, 0.3063, 0.1325, 0.3209, 0.1378, 0.0000],\n",
       "         [0.1416, 0.1519, 0.0384, 0.1643, 0.1207, 0.1254, 0.0169, 0.2408]],\n",
       "\n",
       "        [[1.0000, 0.0000, 0.0000, 0.0000, 0.0000, 0.0000, 0.0000, 0.0000],\n",
       "         [0.6369, 0.3631, 0.0000, 0.0000, 0.0000, 0.0000, 0.0000, 0.0000],\n",
       "         [0.2586, 0.7376, 0.0038, 0.0000, 0.0000, 0.0000, 0.0000, 0.0000],\n",
       "         [0.4692, 0.3440, 0.1237, 0.0631, 0.0000, 0.0000, 0.0000, 0.0000],\n",
       "         [0.1865, 0.4680, 0.0353, 0.1854, 0.1248, 0.0000, 0.0000, 0.0000],\n",
       "         [0.0828, 0.7479, 0.0017, 0.0735, 0.0712, 0.0228, 0.0000, 0.0000],\n",
       "         [0.0522, 0.0517, 0.0961, 0.0375, 0.1024, 0.5730, 0.0872, 0.0000],\n",
       "         [0.0306, 0.2728, 0.0333, 0.1409, 0.1414, 0.0582, 0.0825, 0.2402]]],\n",
       "       grad_fn=<SoftmaxBackward0>)"
      ]
     },
     "execution_count": 7,
     "metadata": {},
     "output_type": "execute_result"
    }
   ],
   "execution_count": 7
  },
  {
   "metadata": {
    "ExecuteTime": {
     "end_time": "2024-09-08T06:18:32.896225Z",
     "start_time": "2024-09-08T06:18:32.891920Z"
    }
   },
   "cell_type": "code",
   "source": [
    "# scale attention 注意力缩放\n",
    "k = torch.randn(B, T, head_size)\n",
    "q = torch.randn(B, T, head_size)\n",
    "wei = q @ k.transpose(-2, -1) * head_size ** -0.5"
   ],
   "id": "76a36028d3b22ad2",
   "outputs": [],
   "execution_count": 15
  },
  {
   "metadata": {
    "ExecuteTime": {
     "end_time": "2024-09-08T06:18:34.126447Z",
     "start_time": "2024-09-08T06:18:34.121447Z"
    }
   },
   "cell_type": "code",
   "source": "k.var()",
   "id": "15d5cc2bb7996db1",
   "outputs": [
    {
     "data": {
      "text/plain": [
       "tensor(1.0966)"
      ]
     },
     "execution_count": 16,
     "metadata": {},
     "output_type": "execute_result"
    }
   ],
   "execution_count": 16
  },
  {
   "metadata": {
    "ExecuteTime": {
     "end_time": "2024-09-08T06:18:34.969448Z",
     "start_time": "2024-09-08T06:18:34.964891Z"
    }
   },
   "cell_type": "code",
   "source": "q.var()",
   "id": "f681420d7d2a01b9",
   "outputs": [
    {
     "data": {
      "text/plain": [
       "tensor(0.9416)"
      ]
     },
     "execution_count": 17,
     "metadata": {},
     "output_type": "execute_result"
    }
   ],
   "execution_count": 17
  },
  {
   "metadata": {
    "ExecuteTime": {
     "end_time": "2024-09-08T06:18:35.820680Z",
     "start_time": "2024-09-08T06:18:35.816227Z"
    }
   },
   "cell_type": "code",
   "source": "wei.var()",
   "id": "e2a748e6a16c56aa",
   "outputs": [
    {
     "data": {
      "text/plain": [
       "tensor(1.0065)"
      ]
     },
     "execution_count": 18,
     "metadata": {},
     "output_type": "execute_result"
    }
   ],
   "execution_count": 18
  },
  {
   "metadata": {
    "ExecuteTime": {
     "end_time": "2024-09-08T06:18:37.275038Z",
     "start_time": "2024-09-08T06:18:37.271036Z"
    }
   },
   "cell_type": "code",
   "source": "torch.softmax(torch.tensor([0.1, -0.2, 0.3, -0.2, 0.5]), dim=-1)",
   "id": "4e37f1480eb634e6",
   "outputs": [
    {
     "data": {
      "text/plain": [
       "tensor([0.1925, 0.1426, 0.2351, 0.1426, 0.2872])"
      ]
     },
     "execution_count": 19,
     "metadata": {},
     "output_type": "execute_result"
    }
   ],
   "execution_count": 19
  },
  {
   "metadata": {
    "ExecuteTime": {
     "end_time": "2024-09-08T06:21:29.766994Z",
     "start_time": "2024-09-08T06:21:29.762519Z"
    }
   },
   "cell_type": "code",
   "source": "torch.softmax(torch.tensor([0.1, -0.2, 0.3, -0.2, 0.5]) * 8, dim=-1)",
   "id": "8da7da91a0ac9d78",
   "outputs": [
    {
     "data": {
      "text/plain": [
       "tensor([0.0326, 0.0030, 0.1615, 0.0030, 0.8000])"
      ]
     },
     "execution_count": 21,
     "metadata": {},
     "output_type": "execute_result"
    }
   ],
   "execution_count": 21
  },
  {
   "metadata": {
    "ExecuteTime": {
     "end_time": "2024-09-08T06:44:04.569154Z",
     "start_time": "2024-09-08T06:44:04.564264Z"
    }
   },
   "cell_type": "code",
   "source": [
    "idx = torch.tensor([[0, 1, 2, 3, 4, 5, 6, 7, 8, 9], [0, 1, 2, 3, 4, 5, 6, 7, 8, 9]])\n",
    "idx.shape"
   ],
   "id": "5f9fab869e3d09df",
   "outputs": [
    {
     "data": {
      "text/plain": [
       "torch.Size([2, 10])"
      ]
     },
     "execution_count": 29,
     "metadata": {},
     "output_type": "execute_result"
    }
   ],
   "execution_count": 29
  },
  {
   "metadata": {
    "ExecuteTime": {
     "end_time": "2024-09-08T06:44:17.041960Z",
     "start_time": "2024-09-08T06:44:17.034738Z"
    }
   },
   "cell_type": "code",
   "source": "idx[:,-2:]",
   "id": "92d3466e0da7017b",
   "outputs": [
    {
     "data": {
      "text/plain": [
       "tensor([[8, 9],\n",
       "        [8, 9]])"
      ]
     },
     "execution_count": 31,
     "metadata": {},
     "output_type": "execute_result"
    }
   ],
   "execution_count": 31
  }
 ],
 "metadata": {
  "kernelspec": {
   "display_name": "Python 3 (ipykernel)",
   "language": "python",
   "name": "python3"
  },
  "language_info": {
   "codemirror_mode": {
    "name": "ipython",
    "version": 2
   },
   "file_extension": ".py",
   "mimetype": "text/x-python",
   "name": "python",
   "nbconvert_exporter": "python",
   "pygments_lexer": "ipython2",
   "version": "2.7.6"
  }
 },
 "nbformat": 4,
 "nbformat_minor": 5
}
